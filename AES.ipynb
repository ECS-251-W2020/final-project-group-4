{
  "nbformat": 4,
  "nbformat_minor": 0,
  "metadata": {
    "colab": {
      "name": "AES.ipynb",
      "provenance": []
    },
    "kernelspec": {
      "name": "python3",
      "display_name": "Python 3"
    }
  },
  "cells": [
    {
      "cell_type": "code",
      "metadata": {
        "id": "-Xwu_bDLlzyD",
        "colab_type": "code",
        "outputId": "8679c2ed-6eb7-4a38-875e-64bd57877517",
        "colab": {
          "base_uri": "https://localhost:8080/",
          "height": 34
        }
      },
      "source": [
        "from PIL import Image\n",
        "!pip install pycryptodome \n",
        "from Crypto.Cipher import AES\n",
        "from IPython.display import Image\n",
        "#from keras.datasets import cifar10\n",
        "\n",
        "import random\n",
        "import string\n",
        "from io import BytesIO\n",
        "from google.colab import files\n",
        "uploaded = files.upload()\n",
        "im = Image.open(BytesIO(uploaded['test.bmp']))\n",
        "\n",
        "#from google.colab import files\n",
        "#uploaded = files.upload()\n",
        "\n",
        "#随机生成16个由小写字母组成的字符串\n",
        "def key_generator(size = 16, chars = string.ascii_lowercase):\n",
        "    return ''.join(random.choice(chars) for _ in range(size))\n",
        "\n",
        "\n",
        "\n",
        "\n",
        "format = \"BMP\"\n",
        "#利用函数随机生成一个由小写字母组成的字符串\n",
        "key = key_generator(16)\n",
        "\n",
        "\n",
        "# AES加密的明文空间为16的整数倍，不能整除，则需要进行填充\n",
        "#在对应的ascii中，\"\\x00\"表示为0x00，具体的值为NULL，b表示以字节表示\n",
        "def pad(data):\n",
        "    return data + b\"\\x00\" * (16 - len(data) % 16)\n",
        "\n",
        "\n",
        "# 将图像的数据映射为RGB\n",
        "def trans_format_RGB(data):\n",
        "    #tuple:不可变,保证数据不丢失\n",
        "    red, green, blue = tuple(map(lambda e: [data[i] for i in range(0, len(data)) if i % 3 == e], [0, 1, 2]))\n",
        "    pixels = tuple(zip(red, green, blue))\n",
        "    return pixels\n",
        "\n",
        "\n",
        "def encrypt_image_ecb(filename):\n",
        "    #打开bmp图片，然后将之转换为RGB图像\n",
        "    im = Image.open(filename)\n",
        "    #将图像数据转换为像素值字节\n",
        "    value_vector = im.convert(\"RGB\").tobytes()\n",
        "\n",
        "    imlength = len(value_vector)\n",
        "    #for i in range(original):\n",
        "        #print(data[i])\n",
        "    #将填充、加密后的数据进行像素值映射\n",
        "    value_encrypt = trans_format_RGB(aes_ecb_encrypt(key, pad(value_vector))[:imlength])\n",
        "    #for i in range(original):\n",
        "        #print(new[i])\n",
        "\n",
        "    #创建一个新对象，存储相对应的值\n",
        "    im2 = Image.new(im.mode, im.size)\n",
        "    im2.putdata(value_encrypt)\n",
        "\n",
        "    # 将对象保存为对应格式的图像\n",
        "    im2.save(filename_encrypted_ecb + \".\" + format, format)\n",
        "\n",
        "def encrypt_image_cbc(filename):\n",
        "    #打开bmp图片，然后将之转换为RGB图像\n",
        "    im = Image.open(filename)\n",
        "    value_vector = im.convert(\"RGB\").tobytes()\n",
        "\n",
        "    # 将图像数据转换为像素值字节\n",
        "    imlength = len(value_vector)\n",
        "\n",
        "    # 将填充、加密后的数据进行像素值映射\n",
        "    value_encrypt = trans_format_RGB(aes_cbc_encrypt(key, pad(value_vector))[:imlength])\n",
        "\n",
        "    # 创建一个新对象，存储相对应的值\n",
        "    im2 = Image.new(im.mode, im.size)\n",
        "    im2.putdata(value_encrypt)\n",
        "\n",
        "    # 将对象保存为对应格式的图像\n",
        "    im2.save(filename_encrypted_cbc + \".\" + format, format)\n",
        "\n",
        "# CBC加密\n",
        "def aes_cbc_encrypt(key, data, mode=AES.MODE_CBC):\n",
        "    #IV为随机值\n",
        "    IV = key_generator(16)\n",
        "    aes = AES.new(key, mode, IV)\n",
        "    new_data = aes.encrypt(data)\n",
        "    return new_data\n",
        "\n",
        "\n",
        "# ECB加密\n",
        "def aes_ecb_encrypt(key, data, mode=AES.MODE_ECB):\n",
        "    #默认模式为ECB加密\n",
        "    aes = AES.new(key, mode)\n",
        "    new_data = aes.encrypt(data)\n",
        "    return new_data\n",
        "\n"
      ],
      "execution_count": 14,
      "outputs": [
        {
          "output_type": "stream",
          "text": [
            "Requirement already satisfied: pycryptodome in /usr/local/lib/python3.6/dist-packages (3.9.7)\n"
          ],
          "name": "stdout"
        }
      ]
    },
    {
      "cell_type": "code",
      "metadata": {
        "id": "VYOBgLYrq4JT",
        "colab_type": "code",
        "colab": {}
      },
      "source": [
        ""
      ],
      "execution_count": 0,
      "outputs": []
    },
    {
      "cell_type": "code",
      "metadata": {
        "id": "J7KPJ3zTnQyY",
        "colab_type": "code",
        "colab": {
          "base_uri": "https://localhost:8080/",
          "height": 314
        },
        "outputId": "02f50eb8-40e8-417f-90fb-e9196edc0522"
      },
      "source": [
        "encrypt_image_ecb(filename)"
      ],
      "execution_count": 10,
      "outputs": [
        {
          "output_type": "error",
          "ename": "FileNotFoundError",
          "evalue": "ignored",
          "traceback": [
            "\u001b[0;31m---------------------------------------------------------------------------\u001b[0m",
            "\u001b[0;31mFileNotFoundError\u001b[0m                         Traceback (most recent call last)",
            "\u001b[0;32m<ipython-input-10-58d48510f46f>\u001b[0m in \u001b[0;36m<module>\u001b[0;34m()\u001b[0m\n\u001b[0;32m----> 1\u001b[0;31m \u001b[0mencrypt_image_ecb\u001b[0m\u001b[0;34m(\u001b[0m\u001b[0mfilename\u001b[0m\u001b[0;34m)\u001b[0m\u001b[0;34m\u001b[0m\u001b[0;34m\u001b[0m\u001b[0m\n\u001b[0m",
            "\u001b[0;32m<ipython-input-9-309d3ec94644>\u001b[0m in \u001b[0;36mencrypt_image_ecb\u001b[0;34m(filename)\u001b[0m\n\u001b[1;32m     43\u001b[0m \u001b[0;32mdef\u001b[0m \u001b[0mencrypt_image_ecb\u001b[0m\u001b[0;34m(\u001b[0m\u001b[0mfilename\u001b[0m\u001b[0;34m)\u001b[0m\u001b[0;34m:\u001b[0m\u001b[0;34m\u001b[0m\u001b[0;34m\u001b[0m\u001b[0m\n\u001b[1;32m     44\u001b[0m     \u001b[0;31m#打开bmp图片，然后将之转换为RGB图像\u001b[0m\u001b[0;34m\u001b[0m\u001b[0;34m\u001b[0m\u001b[0;34m\u001b[0m\u001b[0m\n\u001b[0;32m---> 45\u001b[0;31m     \u001b[0mim\u001b[0m \u001b[0;34m=\u001b[0m \u001b[0mImage\u001b[0m\u001b[0;34m.\u001b[0m\u001b[0mopen\u001b[0m\u001b[0;34m(\u001b[0m\u001b[0mfilename\u001b[0m\u001b[0;34m)\u001b[0m\u001b[0;34m\u001b[0m\u001b[0;34m\u001b[0m\u001b[0m\n\u001b[0m\u001b[1;32m     46\u001b[0m     \u001b[0;31m#将图像数据转换为像素值字节\u001b[0m\u001b[0;34m\u001b[0m\u001b[0;34m\u001b[0m\u001b[0;34m\u001b[0m\u001b[0m\n\u001b[1;32m     47\u001b[0m     \u001b[0mvalue_vector\u001b[0m \u001b[0;34m=\u001b[0m \u001b[0mim\u001b[0m\u001b[0;34m.\u001b[0m\u001b[0mconvert\u001b[0m\u001b[0;34m(\u001b[0m\u001b[0;34m\"RGB\"\u001b[0m\u001b[0;34m)\u001b[0m\u001b[0;34m.\u001b[0m\u001b[0mtobytes\u001b[0m\u001b[0;34m(\u001b[0m\u001b[0;34m)\u001b[0m\u001b[0;34m\u001b[0m\u001b[0;34m\u001b[0m\u001b[0m\n",
            "\u001b[0;32m/usr/local/lib/python3.6/dist-packages/PIL/Image.py\u001b[0m in \u001b[0;36mopen\u001b[0;34m(fp, mode)\u001b[0m\n\u001b[1;32m   2764\u001b[0m \u001b[0;34m\u001b[0m\u001b[0m\n\u001b[1;32m   2765\u001b[0m     \u001b[0;32mif\u001b[0m \u001b[0mfilename\u001b[0m\u001b[0;34m:\u001b[0m\u001b[0;34m\u001b[0m\u001b[0;34m\u001b[0m\u001b[0m\n\u001b[0;32m-> 2766\u001b[0;31m         \u001b[0mfp\u001b[0m \u001b[0;34m=\u001b[0m \u001b[0mbuiltins\u001b[0m\u001b[0;34m.\u001b[0m\u001b[0mopen\u001b[0m\u001b[0;34m(\u001b[0m\u001b[0mfilename\u001b[0m\u001b[0;34m,\u001b[0m \u001b[0;34m\"rb\"\u001b[0m\u001b[0;34m)\u001b[0m\u001b[0;34m\u001b[0m\u001b[0;34m\u001b[0m\u001b[0m\n\u001b[0m\u001b[1;32m   2767\u001b[0m         \u001b[0mexclusive_fp\u001b[0m \u001b[0;34m=\u001b[0m \u001b[0;32mTrue\u001b[0m\u001b[0;34m\u001b[0m\u001b[0;34m\u001b[0m\u001b[0m\n\u001b[1;32m   2768\u001b[0m \u001b[0;34m\u001b[0m\u001b[0m\n",
            "\u001b[0;31mFileNotFoundError\u001b[0m: [Errno 2] No such file or directory: 'blackhat.bmp'"
          ]
        }
      ]
    }
  ]
}